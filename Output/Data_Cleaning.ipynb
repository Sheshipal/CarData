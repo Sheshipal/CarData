{
  "nbformat": 4,
  "nbformat_minor": 0,
  "metadata": {
    "colab": {
      "name": "Data Cleaning.ipynb",
      "provenance": []
    },
    "kernelspec": {
      "name": "python3",
      "display_name": "Python 3"
    },
    "language_info": {
      "name": "python"
    }
  },
  "cells": [
    {
      "cell_type": "code",
      "metadata": {
        "id": "oSQkuciFcSXU"
      },
      "source": [
        "import pandas as pd\n",
        "import re"
      ],
      "execution_count": null,
      "outputs": []
    },
    {
      "cell_type": "code",
      "metadata": {
        "id": "p7QcL_H7ceLy"
      },
      "source": [
        "data = pd.read_csv(\"/content/output.csv\")"
      ],
      "execution_count": 509,
      "outputs": []
    },
    {
      "cell_type": "code",
      "metadata": {
        "colab": {
          "base_uri": "https://localhost:8080/"
        },
        "id": "IPWDlopEckYQ",
        "outputId": "cdb50992-b043-4382-b1e8-9f8d59f582e5"
      },
      "source": [
        "data.info()"
      ],
      "execution_count": 510,
      "outputs": [
        {
          "output_type": "stream",
          "text": [
            "<class 'pandas.core.frame.DataFrame'>\n",
            "RangeIndex: 1237 entries, 0 to 1236\n",
            "Data columns (total 12 columns):\n",
            " #   Column             Non-Null Count  Dtype \n",
            "---  ------             --------------  ----- \n",
            " 0   name               1237 non-null   object\n",
            " 1   price              1237 non-null   object\n",
            " 2   owner              1237 non-null   object\n",
            " 3   driven km          1237 non-null   object\n",
            " 4   transmission       1237 non-null   object\n",
            " 5   fuel               1237 non-null   object\n",
            " 6   body type          1237 non-null   object\n",
            " 7   mileage            1237 non-null   object\n",
            " 8   engine cc          1237 non-null   object\n",
            " 9   max power bhp      1237 non-null   object\n",
            " 10  wheel size inches  1237 non-null   object\n",
            " 11  no of seats        1237 non-null   object\n",
            "dtypes: object(12)\n",
            "memory usage: 116.1+ KB\n"
          ],
          "name": "stdout"
        }
      ]
    },
    {
      "cell_type": "code",
      "metadata": {
        "colab": {
          "base_uri": "https://localhost:8080/",
          "height": 397
        },
        "id": "Qy1Fm3F6coFY",
        "outputId": "abb336c7-830f-4b23-c0ed-192543bcccd5"
      },
      "source": [
        "data.head()"
      ],
      "execution_count": 511,
      "outputs": [
        {
          "output_type": "execute_result",
          "data": {
            "text/html": [
              "<div>\n",
              "<style scoped>\n",
              "    .dataframe tbody tr th:only-of-type {\n",
              "        vertical-align: middle;\n",
              "    }\n",
              "\n",
              "    .dataframe tbody tr th {\n",
              "        vertical-align: top;\n",
              "    }\n",
              "\n",
              "    .dataframe thead th {\n",
              "        text-align: right;\n",
              "    }\n",
              "</style>\n",
              "<table border=\"1\" class=\"dataframe\">\n",
              "  <thead>\n",
              "    <tr style=\"text-align: right;\">\n",
              "      <th></th>\n",
              "      <th>name</th>\n",
              "      <th>price</th>\n",
              "      <th>owner</th>\n",
              "      <th>driven km</th>\n",
              "      <th>transmission</th>\n",
              "      <th>fuel</th>\n",
              "      <th>body type</th>\n",
              "      <th>mileage</th>\n",
              "      <th>engine cc</th>\n",
              "      <th>max power bhp</th>\n",
              "      <th>wheel size inches</th>\n",
              "      <th>no of seats</th>\n",
              "    </tr>\n",
              "  </thead>\n",
              "  <tbody>\n",
              "    <tr>\n",
              "      <th>0</th>\n",
              "      <td>Volkswagen Polo HIGHLINE1.2L DIESEL 2012</td>\n",
              "      <td>₹ 2,70,000</td>\n",
              "      <td>Second Owner</td>\n",
              "      <td>120000 Km</td>\n",
              "      <td>Manual</td>\n",
              "      <td>Diesel</td>\n",
              "      <td>Hatchback</td>\n",
              "      <td>22 Kmpl</td>\n",
              "      <td>1199 cc</td>\n",
              "      <td>74 bhp</td>\n",
              "      <td>15''</td>\n",
              "      <td>5 Seater</td>\n",
              "    </tr>\n",
              "    <tr>\n",
              "      <th>1</th>\n",
              "      <td>Hyundai Creta S 1.5 Petrol BS6 2020</td>\n",
              "      <td>₹ 12,15,000</td>\n",
              "      <td>First Owner</td>\n",
              "      <td>8000 Km</td>\n",
              "      <td>Manual</td>\n",
              "      <td>Petrol</td>\n",
              "      <td>SUV</td>\n",
              "      <td>16.8 kmpl</td>\n",
              "      <td>1497 cc</td>\n",
              "      <td>113 bhp</td>\n",
              "      <td>16 inch</td>\n",
              "      <td>5 Seater</td>\n",
              "    </tr>\n",
              "    <tr>\n",
              "      <th>2</th>\n",
              "      <td>Honda City VX i-DTEC 2017</td>\n",
              "      <td>₹ 9,00,000</td>\n",
              "      <td>First Owner</td>\n",
              "      <td>45000 Km</td>\n",
              "      <td>Manual</td>\n",
              "      <td>Diesel</td>\n",
              "      <td>Sedan</td>\n",
              "      <td>26 kmpl</td>\n",
              "      <td>1498 cc</td>\n",
              "      <td>99 bhp</td>\n",
              "      <td>15 inch</td>\n",
              "      <td>5 Seater</td>\n",
              "    </tr>\n",
              "    <tr>\n",
              "      <th>3</th>\n",
              "      <td>Skoda Fabia ELEGANCE 1.2 TDI 2012</td>\n",
              "      <td>₹ 3,50,000</td>\n",
              "      <td>First Owner</td>\n",
              "      <td>66000 Km</td>\n",
              "      <td>Manual</td>\n",
              "      <td>Diesel</td>\n",
              "      <td>Hatchback</td>\n",
              "      <td>15.9 kmpl</td>\n",
              "      <td>1199 cc</td>\n",
              "      <td>75bhp</td>\n",
              "      <td>14 Inch</td>\n",
              "      <td>5 Seater</td>\n",
              "    </tr>\n",
              "    <tr>\n",
              "      <th>4</th>\n",
              "      <td>Volkswagen Vento Highline Diesel 2013</td>\n",
              "      <td>₹ 3,60,000</td>\n",
              "      <td>First Owner</td>\n",
              "      <td>39000 Km</td>\n",
              "      <td>Manual</td>\n",
              "      <td>Diesel</td>\n",
              "      <td>Sedan</td>\n",
              "      <td>20.5 kmpl</td>\n",
              "      <td>1598 cc</td>\n",
              "      <td>103 bhp</td>\n",
              "      <td>15 inches</td>\n",
              "      <td>5 Seater</td>\n",
              "    </tr>\n",
              "  </tbody>\n",
              "</table>\n",
              "</div>"
            ],
            "text/plain": [
              "                                       name  ... no of seats\n",
              "0  Volkswagen Polo HIGHLINE1.2L DIESEL 2012  ...    5 Seater\n",
              "1       Hyundai Creta S 1.5 Petrol BS6 2020  ...    5 Seater\n",
              "2                 Honda City VX i-DTEC 2017  ...    5 Seater\n",
              "3         Skoda Fabia ELEGANCE 1.2 TDI 2012  ...    5 Seater\n",
              "4     Volkswagen Vento Highline Diesel 2013  ...    5 Seater\n",
              "\n",
              "[5 rows x 12 columns]"
            ]
          },
          "metadata": {
            "tags": []
          },
          "execution_count": 511
        }
      ]
    },
    {
      "cell_type": "code",
      "metadata": {
        "colab": {
          "base_uri": "https://localhost:8080/",
          "height": 262
        },
        "id": "TpMFpd-0KgJu",
        "outputId": "f640de63-2d00-4359-c1b5-91844d5578f5"
      },
      "source": [
        "data.describe()"
      ],
      "execution_count": 512,
      "outputs": [
        {
          "output_type": "execute_result",
          "data": {
            "text/html": [
              "<div>\n",
              "<style scoped>\n",
              "    .dataframe tbody tr th:only-of-type {\n",
              "        vertical-align: middle;\n",
              "    }\n",
              "\n",
              "    .dataframe tbody tr th {\n",
              "        vertical-align: top;\n",
              "    }\n",
              "\n",
              "    .dataframe thead th {\n",
              "        text-align: right;\n",
              "    }\n",
              "</style>\n",
              "<table border=\"1\" class=\"dataframe\">\n",
              "  <thead>\n",
              "    <tr style=\"text-align: right;\">\n",
              "      <th></th>\n",
              "      <th>name</th>\n",
              "      <th>price</th>\n",
              "      <th>owner</th>\n",
              "      <th>driven km</th>\n",
              "      <th>transmission</th>\n",
              "      <th>fuel</th>\n",
              "      <th>body type</th>\n",
              "      <th>mileage</th>\n",
              "      <th>engine cc</th>\n",
              "      <th>max power bhp</th>\n",
              "      <th>wheel size inches</th>\n",
              "      <th>no of seats</th>\n",
              "    </tr>\n",
              "  </thead>\n",
              "  <tbody>\n",
              "    <tr>\n",
              "      <th>count</th>\n",
              "      <td>1237</td>\n",
              "      <td>1237</td>\n",
              "      <td>1237</td>\n",
              "      <td>1237</td>\n",
              "      <td>1237</td>\n",
              "      <td>1237</td>\n",
              "      <td>1237</td>\n",
              "      <td>1237</td>\n",
              "      <td>1237</td>\n",
              "      <td>1237</td>\n",
              "      <td>1237</td>\n",
              "      <td>1237</td>\n",
              "    </tr>\n",
              "    <tr>\n",
              "      <th>unique</th>\n",
              "      <td>1012</td>\n",
              "      <td>612</td>\n",
              "      <td>5</td>\n",
              "      <td>477</td>\n",
              "      <td>3</td>\n",
              "      <td>5</td>\n",
              "      <td>9</td>\n",
              "      <td>283</td>\n",
              "      <td>121</td>\n",
              "      <td>197</td>\n",
              "      <td>55</td>\n",
              "      <td>7</td>\n",
              "    </tr>\n",
              "    <tr>\n",
              "      <th>top</th>\n",
              "      <td>Toyota Fortuner 2.8 4x4 AT 2018</td>\n",
              "      <td>₹ 45,00,000</td>\n",
              "      <td>First Owner</td>\n",
              "      <td>50000 Km</td>\n",
              "      <td>Manual</td>\n",
              "      <td>Diesel</td>\n",
              "      <td>Hatchback</td>\n",
              "      <td>14.24 kmpl</td>\n",
              "      <td>1197 cc</td>\n",
              "      <td>174 bhp</td>\n",
              "      <td>14 Inch</td>\n",
              "      <td>5 Seater</td>\n",
              "    </tr>\n",
              "    <tr>\n",
              "      <th>freq</th>\n",
              "      <td>10</td>\n",
              "      <td>16</td>\n",
              "      <td>1053</td>\n",
              "      <td>55</td>\n",
              "      <td>883</td>\n",
              "      <td>647</td>\n",
              "      <td>416</td>\n",
              "      <td>41</td>\n",
              "      <td>168</td>\n",
              "      <td>51</td>\n",
              "      <td>216</td>\n",
              "      <td>1054</td>\n",
              "    </tr>\n",
              "  </tbody>\n",
              "</table>\n",
              "</div>"
            ],
            "text/plain": [
              "                                   name  ... no of seats\n",
              "count                              1237  ...        1237\n",
              "unique                             1012  ...           7\n",
              "top     Toyota Fortuner 2.8 4x4 AT 2018  ...    5 Seater\n",
              "freq                                 10  ...        1054\n",
              "\n",
              "[4 rows x 12 columns]"
            ]
          },
          "metadata": {
            "tags": []
          },
          "execution_count": 512
        }
      ]
    },
    {
      "cell_type": "code",
      "metadata": {
        "colab": {
          "base_uri": "https://localhost:8080/"
        },
        "id": "-yzKqnWbK2BL",
        "outputId": "db382fdd-9558-4fde-f796-dbf1ac0a8a73"
      },
      "source": [
        "data[\"owner\"].unique()"
      ],
      "execution_count": 513,
      "outputs": [
        {
          "output_type": "execute_result",
          "data": {
            "text/plain": [
              "array(['Second Owner', 'First Owner', 'Third Owner', 'Fourth Owner',\n",
              "       'Sixth Owner'], dtype=object)"
            ]
          },
          "metadata": {
            "tags": []
          },
          "execution_count": 513
        }
      ]
    },
    {
      "cell_type": "code",
      "metadata": {
        "colab": {
          "base_uri": "https://localhost:8080/"
        },
        "id": "DzluXKESPu-m",
        "outputId": "2ce762c0-6795-4fd9-c6ef-c24f73f7dfa6"
      },
      "source": [
        "data[\"transmission\"].unique()"
      ],
      "execution_count": 514,
      "outputs": [
        {
          "output_type": "execute_result",
          "data": {
            "text/plain": [
              "array(['Manual', 'Automatic', 'Automated Manual Transmission'],\n",
              "      dtype=object)"
            ]
          },
          "metadata": {
            "tags": []
          },
          "execution_count": 514
        }
      ]
    },
    {
      "cell_type": "code",
      "metadata": {
        "colab": {
          "base_uri": "https://localhost:8080/"
        },
        "id": "UAttSuqEP7Sf",
        "outputId": "aa9775d6-20b2-4ff4-d89e-27e5188ba946"
      },
      "source": [
        "len(data[data[\"transmission\"] == 'Automated Manual Transmission'])"
      ],
      "execution_count": 515,
      "outputs": [
        {
          "output_type": "execute_result",
          "data": {
            "text/plain": [
              "20"
            ]
          },
          "metadata": {
            "tags": []
          },
          "execution_count": 515
        }
      ]
    },
    {
      "cell_type": "code",
      "metadata": {
        "colab": {
          "base_uri": "https://localhost:8080/"
        },
        "id": "Vuvvlsm7PwaE",
        "outputId": "17673a77-3a25-4779-f653-a1ab5195e18a"
      },
      "source": [
        "data[\"fuel\"].unique()"
      ],
      "execution_count": 516,
      "outputs": [
        {
          "output_type": "execute_result",
          "data": {
            "text/plain": [
              "array(['Diesel', 'Petrol', 'Petrol + CNG', 'Petrol + LPG', 'Hybrid'],\n",
              "      dtype=object)"
            ]
          },
          "metadata": {
            "tags": []
          },
          "execution_count": 516
        }
      ]
    },
    {
      "cell_type": "code",
      "metadata": {
        "colab": {
          "base_uri": "https://localhost:8080/"
        },
        "id": "J7XZ1q1MPxKh",
        "outputId": "0cd9964c-4b52-42c2-c314-7fb2774ba3f4"
      },
      "source": [
        "data[\"body type\"].unique()"
      ],
      "execution_count": 517,
      "outputs": [
        {
          "output_type": "execute_result",
          "data": {
            "text/plain": [
              "array(['Hatchback', 'SUV', 'Sedan', 'MUV', 'Crossover', 'Van',\n",
              "       'Convertible', 'Coupe', 'Sports'], dtype=object)"
            ]
          },
          "metadata": {
            "tags": []
          },
          "execution_count": 517
        }
      ]
    },
    {
      "cell_type": "code",
      "metadata": {
        "id": "YRaEoh_RdZuD"
      },
      "source": [
        "# converting categorical data into numerical data\n",
        "owner = {\"First Owner\" : 1,\n",
        "        \"Second Owner\" : 2,\n",
        "        \"Third Owner\" : 3,\n",
        "        \"Fourth Owner\" : 4,\n",
        "        \"Fifth Owner\" : 5,\n",
        "        \"Sixth Owner\" : 6}\n",
        "data[\"owner\"] = data[\"owner\"].replace(owner)\n",
        "\n",
        "\n",
        "transmission = {\"Manual\" : 0,\n",
        "                \"Automatic\" : 1,\n",
        "                \"Automated Manual Transmission\" : 1}\n",
        "data[\"transmission\"] = data[\"transmission\"].replace(transmission)\n",
        "\n",
        "\n",
        "fuel = {\"Diesel\" : 1,\n",
        "        \"Petrol\" : 2,\n",
        "        \"Petrol + CNG\" : 3,\n",
        "        \"Petrol + LPG\" : 4,\n",
        "        \"Hybrid\" : 5}\n",
        "data[\"fuel\"] = data[\"fuel\"].replace(fuel)\n",
        "\n",
        "\n",
        "body_type = {\"Hatchback\" : 1,\n",
        "            \"SUV\" : 2,\n",
        "            \"Sedan\" : 3,\n",
        "            \"MUV\" : 4,\n",
        "            \"Crossover\" : 5,\n",
        "            \"Van\" : 6,\n",
        "            \"Convertible\" : 7,\n",
        "            \"Coupe\" : 8,\n",
        "            \"Sports\" : 9}\n",
        "data[\"body type\"] = data[\"body type\"].replace(body_type)\n",
        "\n",
        "\n",
        "\n",
        "# cleaning no of seats column\n",
        "data[\"no of seats\"] = data[\"no of seats\"].str.extract('(\\d+)')\n",
        "data[\"no of seats\"] = data[\"no of seats\"].apply(lambda x: int(x))\n",
        "\n",
        "# cleaning wheel size column\n",
        "data[\"wheel size inches\"] = data[\"wheel size inches\"].str.extract('(\\d+)')\n",
        "data = data.drop(data[data['wheel size inches'].isnull()].index)\n",
        "data[\"wheel size inches\"] = data[\"wheel size inches\"].apply(lambda x: int(x))\n",
        "\n",
        "# cleaning max power column\n",
        "data[\"max power bhp\"] = data[\"max power bhp\"].str.extract('(\\d+)')\n",
        "data[\"max power bhp\"] = data[\"max power bhp\"].apply(lambda x: int(x))\n",
        "\n",
        "# cleaning engine cc column\n",
        "data[\"engine cc\"] = data[\"engine cc\"].str.extract('(\\d+)')\n",
        "data[\"engine cc\"] = data[\"engine cc\"].apply(lambda x: int(x))\n",
        "\n",
        "# cleaning mileage cloumn\n",
        "data[\"mileage kmpl\"] = data[\"mileage\"].str.extract('(\\d+.?\\d?)')\n",
        "data[\"mileage kmpl\"] = data[\"mileage kmpl\"].apply(lambda x: x.replace(\"k\", \"000\"))\n",
        "data[\"mileage kmpl\"] = data[\"mileage kmpl\"].apply(lambda x: float(x))\n",
        "\n",
        "# cleaning driven km column\n",
        "data[\"driven km\"] = data[\"driven km\"].str.extract('(\\d+)')\n",
        "data[\"driven km\"] = data[\"driven km\"].apply(lambda x: int(x))\n",
        "\n",
        "# cleaning price column\n",
        "data[\"price\"] = data[\"price\"].apply(lambda x: x.replace(',', ''))\n",
        "data[\"price in rupee\"] = data[\"price\"].str.extract('(\\d+)')\n",
        "data[\"price in rupee\"] = data[\"price in rupee\"].apply(lambda x: int(x))\n",
        "\n",
        "# cleaning name column\n",
        "# creating purchase year column\n",
        "data[\"purchase year\"] = data[\"name\"].str.extract('(\\d\\d\\d\\d)')\n",
        "data[\"purchase year\"] = data[\"purchase year\"].apply(lambda x: int(x))\n",
        "\n",
        "# creating company column\n",
        "data[\"company\"] = data[\"name\"].apply(lambda x: x.split()[0])\n",
        "\n",
        "# converting catogorical column company to a numerical column\n",
        "company = list(data[\"company\"].unique())\n",
        "company_dict = {}\n",
        "for index,value in enumerate(company):\n",
        "  company_dict[value] = index\n",
        "data[\"company\"] = data[\"company\"].replace(company_dict)"
      ],
      "execution_count": 518,
      "outputs": []
    },
    {
      "cell_type": "code",
      "metadata": {
        "id": "Ela2YKb77ClK"
      },
      "source": [
        "cleaned_data = data.drop(['name', 'price', 'mileage'], axis=1)"
      ],
      "execution_count": 519,
      "outputs": []
    },
    {
      "cell_type": "code",
      "metadata": {
        "colab": {
          "base_uri": "https://localhost:8080/",
          "height": 241
        },
        "id": "PWQTQeCK9UXV",
        "outputId": "b38612cd-2dad-48f5-fdd8-099efc4ca2ec"
      },
      "source": [
        "cleaned_data.head()"
      ],
      "execution_count": 520,
      "outputs": [
        {
          "output_type": "execute_result",
          "data": {
            "text/html": [
              "<div>\n",
              "<style scoped>\n",
              "    .dataframe tbody tr th:only-of-type {\n",
              "        vertical-align: middle;\n",
              "    }\n",
              "\n",
              "    .dataframe tbody tr th {\n",
              "        vertical-align: top;\n",
              "    }\n",
              "\n",
              "    .dataframe thead th {\n",
              "        text-align: right;\n",
              "    }\n",
              "</style>\n",
              "<table border=\"1\" class=\"dataframe\">\n",
              "  <thead>\n",
              "    <tr style=\"text-align: right;\">\n",
              "      <th></th>\n",
              "      <th>owner</th>\n",
              "      <th>driven km</th>\n",
              "      <th>transmission</th>\n",
              "      <th>fuel</th>\n",
              "      <th>body type</th>\n",
              "      <th>engine cc</th>\n",
              "      <th>max power bhp</th>\n",
              "      <th>wheel size inches</th>\n",
              "      <th>no of seats</th>\n",
              "      <th>mileage kmpl</th>\n",
              "      <th>price in rupee</th>\n",
              "      <th>purchase year</th>\n",
              "      <th>company</th>\n",
              "    </tr>\n",
              "  </thead>\n",
              "  <tbody>\n",
              "    <tr>\n",
              "      <th>0</th>\n",
              "      <td>2</td>\n",
              "      <td>120000</td>\n",
              "      <td>0</td>\n",
              "      <td>1</td>\n",
              "      <td>1</td>\n",
              "      <td>1199</td>\n",
              "      <td>74</td>\n",
              "      <td>15</td>\n",
              "      <td>5</td>\n",
              "      <td>22.0</td>\n",
              "      <td>270000</td>\n",
              "      <td>2012</td>\n",
              "      <td>0</td>\n",
              "    </tr>\n",
              "    <tr>\n",
              "      <th>1</th>\n",
              "      <td>1</td>\n",
              "      <td>8000</td>\n",
              "      <td>0</td>\n",
              "      <td>2</td>\n",
              "      <td>2</td>\n",
              "      <td>1497</td>\n",
              "      <td>113</td>\n",
              "      <td>16</td>\n",
              "      <td>5</td>\n",
              "      <td>16.8</td>\n",
              "      <td>1215000</td>\n",
              "      <td>2020</td>\n",
              "      <td>1</td>\n",
              "    </tr>\n",
              "    <tr>\n",
              "      <th>2</th>\n",
              "      <td>1</td>\n",
              "      <td>45000</td>\n",
              "      <td>0</td>\n",
              "      <td>1</td>\n",
              "      <td>3</td>\n",
              "      <td>1498</td>\n",
              "      <td>99</td>\n",
              "      <td>15</td>\n",
              "      <td>5</td>\n",
              "      <td>26.0</td>\n",
              "      <td>900000</td>\n",
              "      <td>2017</td>\n",
              "      <td>2</td>\n",
              "    </tr>\n",
              "    <tr>\n",
              "      <th>3</th>\n",
              "      <td>1</td>\n",
              "      <td>66000</td>\n",
              "      <td>0</td>\n",
              "      <td>1</td>\n",
              "      <td>1</td>\n",
              "      <td>1199</td>\n",
              "      <td>75</td>\n",
              "      <td>14</td>\n",
              "      <td>5</td>\n",
              "      <td>15.9</td>\n",
              "      <td>350000</td>\n",
              "      <td>2012</td>\n",
              "      <td>3</td>\n",
              "    </tr>\n",
              "    <tr>\n",
              "      <th>4</th>\n",
              "      <td>1</td>\n",
              "      <td>39000</td>\n",
              "      <td>0</td>\n",
              "      <td>1</td>\n",
              "      <td>3</td>\n",
              "      <td>1598</td>\n",
              "      <td>103</td>\n",
              "      <td>15</td>\n",
              "      <td>5</td>\n",
              "      <td>20.5</td>\n",
              "      <td>360000</td>\n",
              "      <td>2013</td>\n",
              "      <td>0</td>\n",
              "    </tr>\n",
              "  </tbody>\n",
              "</table>\n",
              "</div>"
            ],
            "text/plain": [
              "   owner  driven km  transmission  ...  price in rupee  purchase year  company\n",
              "0      2     120000             0  ...          270000           2012        0\n",
              "1      1       8000             0  ...         1215000           2020        1\n",
              "2      1      45000             0  ...          900000           2017        2\n",
              "3      1      66000             0  ...          350000           2012        3\n",
              "4      1      39000             0  ...          360000           2013        0\n",
              "\n",
              "[5 rows x 13 columns]"
            ]
          },
          "metadata": {
            "tags": []
          },
          "execution_count": 520
        }
      ]
    },
    {
      "cell_type": "code",
      "metadata": {
        "colab": {
          "base_uri": "https://localhost:8080/"
        },
        "id": "DBhfpLS_fci7",
        "outputId": "0a321ecb-4265-46fb-eeda-03ebebf12137"
      },
      "source": [
        "cleaned_data.info()"
      ],
      "execution_count": 521,
      "outputs": [
        {
          "output_type": "stream",
          "text": [
            "<class 'pandas.core.frame.DataFrame'>\n",
            "Int64Index: 1236 entries, 0 to 1236\n",
            "Data columns (total 13 columns):\n",
            " #   Column             Non-Null Count  Dtype  \n",
            "---  ------             --------------  -----  \n",
            " 0   owner              1236 non-null   int64  \n",
            " 1   driven km          1236 non-null   int64  \n",
            " 2   transmission       1236 non-null   int64  \n",
            " 3   fuel               1236 non-null   int64  \n",
            " 4   body type          1236 non-null   int64  \n",
            " 5   engine cc          1236 non-null   int64  \n",
            " 6   max power bhp      1236 non-null   int64  \n",
            " 7   wheel size inches  1236 non-null   int64  \n",
            " 8   no of seats        1236 non-null   int64  \n",
            " 9   mileage kmpl       1236 non-null   float64\n",
            " 10  price in rupee     1236 non-null   int64  \n",
            " 11  purchase year      1236 non-null   int64  \n",
            " 12  company            1236 non-null   int64  \n",
            "dtypes: float64(1), int64(12)\n",
            "memory usage: 135.2 KB\n"
          ],
          "name": "stdout"
        }
      ]
    },
    {
      "cell_type": "code",
      "metadata": {
        "colab": {
          "base_uri": "https://localhost:8080/",
          "height": 338
        },
        "id": "YleABK-z9z85",
        "outputId": "27be60da-315d-40c5-90e1-8744369a6a6d"
      },
      "source": [
        "cleaned_data.describe()"
      ],
      "execution_count": 522,
      "outputs": [
        {
          "output_type": "execute_result",
          "data": {
            "text/html": [
              "<div>\n",
              "<style scoped>\n",
              "    .dataframe tbody tr th:only-of-type {\n",
              "        vertical-align: middle;\n",
              "    }\n",
              "\n",
              "    .dataframe tbody tr th {\n",
              "        vertical-align: top;\n",
              "    }\n",
              "\n",
              "    .dataframe thead th {\n",
              "        text-align: right;\n",
              "    }\n",
              "</style>\n",
              "<table border=\"1\" class=\"dataframe\">\n",
              "  <thead>\n",
              "    <tr style=\"text-align: right;\">\n",
              "      <th></th>\n",
              "      <th>owner</th>\n",
              "      <th>driven km</th>\n",
              "      <th>transmission</th>\n",
              "      <th>fuel</th>\n",
              "      <th>body type</th>\n",
              "      <th>engine cc</th>\n",
              "      <th>max power bhp</th>\n",
              "      <th>wheel size inches</th>\n",
              "      <th>no of seats</th>\n",
              "      <th>mileage kmpl</th>\n",
              "      <th>price in rupee</th>\n",
              "      <th>purchase year</th>\n",
              "      <th>company</th>\n",
              "    </tr>\n",
              "  </thead>\n",
              "  <tbody>\n",
              "    <tr>\n",
              "      <th>count</th>\n",
              "      <td>1236.000000</td>\n",
              "      <td>1236.000000</td>\n",
              "      <td>1236.000000</td>\n",
              "      <td>1236.000000</td>\n",
              "      <td>1236.000000</td>\n",
              "      <td>1236.000000</td>\n",
              "      <td>1236.000000</td>\n",
              "      <td>1236.000000</td>\n",
              "      <td>1236.000000</td>\n",
              "      <td>1236.000000</td>\n",
              "      <td>1.236000e+03</td>\n",
              "      <td>1236.000000</td>\n",
              "      <td>1236.000000</td>\n",
              "    </tr>\n",
              "    <tr>\n",
              "      <th>mean</th>\n",
              "      <td>1.191748</td>\n",
              "      <td>49165.372977</td>\n",
              "      <td>0.286408</td>\n",
              "      <td>1.496764</td>\n",
              "      <td>2.258900</td>\n",
              "      <td>1637.909385</td>\n",
              "      <td>114.567152</td>\n",
              "      <td>15.398058</td>\n",
              "      <td>5.263754</td>\n",
              "      <td>59.941100</td>\n",
              "      <td>1.201285e+06</td>\n",
              "      <td>2015.036408</td>\n",
              "      <td>6.813107</td>\n",
              "    </tr>\n",
              "    <tr>\n",
              "      <th>std</th>\n",
              "      <td>0.513428</td>\n",
              "      <td>38489.467541</td>\n",
              "      <td>0.452265</td>\n",
              "      <td>0.545120</td>\n",
              "      <td>1.156972</td>\n",
              "      <td>634.022375</td>\n",
              "      <td>53.146147</td>\n",
              "      <td>6.171120</td>\n",
              "      <td>0.742038</td>\n",
              "      <td>835.962072</td>\n",
              "      <td>2.166494e+06</td>\n",
              "      <td>3.437747</td>\n",
              "      <td>5.133823</td>\n",
              "    </tr>\n",
              "    <tr>\n",
              "      <th>min</th>\n",
              "      <td>1.000000</td>\n",
              "      <td>500.000000</td>\n",
              "      <td>0.000000</td>\n",
              "      <td>1.000000</td>\n",
              "      <td>1.000000</td>\n",
              "      <td>624.000000</td>\n",
              "      <td>21.000000</td>\n",
              "      <td>12.000000</td>\n",
              "      <td>2.000000</td>\n",
              "      <td>6.700000</td>\n",
              "      <td>1.700000e+04</td>\n",
              "      <td>2003.000000</td>\n",
              "      <td>0.000000</td>\n",
              "    </tr>\n",
              "    <tr>\n",
              "      <th>25%</th>\n",
              "      <td>1.000000</td>\n",
              "      <td>24987.500000</td>\n",
              "      <td>0.000000</td>\n",
              "      <td>1.000000</td>\n",
              "      <td>1.000000</td>\n",
              "      <td>1197.000000</td>\n",
              "      <td>81.000000</td>\n",
              "      <td>14.000000</td>\n",
              "      <td>5.000000</td>\n",
              "      <td>15.100000</td>\n",
              "      <td>3.900000e+05</td>\n",
              "      <td>2013.000000</td>\n",
              "      <td>2.000000</td>\n",
              "    </tr>\n",
              "    <tr>\n",
              "      <th>50%</th>\n",
              "      <td>1.000000</td>\n",
              "      <td>48000.000000</td>\n",
              "      <td>0.000000</td>\n",
              "      <td>1.000000</td>\n",
              "      <td>2.000000</td>\n",
              "      <td>1495.500000</td>\n",
              "      <td>99.000000</td>\n",
              "      <td>15.000000</td>\n",
              "      <td>5.000000</td>\n",
              "      <td>18.500000</td>\n",
              "      <td>6.250000e+05</td>\n",
              "      <td>2016.000000</td>\n",
              "      <td>6.000000</td>\n",
              "    </tr>\n",
              "    <tr>\n",
              "      <th>75%</th>\n",
              "      <td>1.000000</td>\n",
              "      <td>65030.750000</td>\n",
              "      <td>1.000000</td>\n",
              "      <td>2.000000</td>\n",
              "      <td>3.000000</td>\n",
              "      <td>1991.000000</td>\n",
              "      <td>140.000000</td>\n",
              "      <td>16.000000</td>\n",
              "      <td>5.000000</td>\n",
              "      <td>21.400000</td>\n",
              "      <td>1.150000e+06</td>\n",
              "      <td>2018.000000</td>\n",
              "      <td>11.000000</td>\n",
              "    </tr>\n",
              "    <tr>\n",
              "      <th>max</th>\n",
              "      <td>6.000000</td>\n",
              "      <td>750000.000000</td>\n",
              "      <td>1.000000</td>\n",
              "      <td>5.000000</td>\n",
              "      <td>9.000000</td>\n",
              "      <td>6749.000000</td>\n",
              "      <td>601.000000</td>\n",
              "      <td>225.000000</td>\n",
              "      <td>9.000000</td>\n",
              "      <td>17000.000000</td>\n",
              "      <td>4.500000e+07</td>\n",
              "      <td>2021.000000</td>\n",
              "      <td>25.000000</td>\n",
              "    </tr>\n",
              "  </tbody>\n",
              "</table>\n",
              "</div>"
            ],
            "text/plain": [
              "             owner      driven km  ...  purchase year      company\n",
              "count  1236.000000    1236.000000  ...    1236.000000  1236.000000\n",
              "mean      1.191748   49165.372977  ...    2015.036408     6.813107\n",
              "std       0.513428   38489.467541  ...       3.437747     5.133823\n",
              "min       1.000000     500.000000  ...    2003.000000     0.000000\n",
              "25%       1.000000   24987.500000  ...    2013.000000     2.000000\n",
              "50%       1.000000   48000.000000  ...    2016.000000     6.000000\n",
              "75%       1.000000   65030.750000  ...    2018.000000    11.000000\n",
              "max       6.000000  750000.000000  ...    2021.000000    25.000000\n",
              "\n",
              "[8 rows x 13 columns]"
            ]
          },
          "metadata": {
            "tags": []
          },
          "execution_count": 522
        }
      ]
    },
    {
      "cell_type": "code",
      "metadata": {
        "id": "E_CLAOoM1uAZ"
      },
      "source": [
        "cleaned_data.to_csv(\"output_numerical.csv\")"
      ],
      "execution_count": 523,
      "outputs": []
    },
    {
      "cell_type": "code",
      "metadata": {
        "id": "1m230XrGO0fe"
      },
      "source": [
        "import seaborn as sns"
      ],
      "execution_count": 524,
      "outputs": []
    },
    {
      "cell_type": "code",
      "metadata": {
        "colab": {
          "base_uri": "https://localhost:8080/"
        },
        "id": "kln66qaFXYWo",
        "outputId": "b94e36f1-f4bd-4af8-a192-62a4238f0260"
      },
      "source": [
        "cleaned_data.corr()[\"price in rupee\"]"
      ],
      "execution_count": 525,
      "outputs": [
        {
          "output_type": "execute_result",
          "data": {
            "text/plain": [
              "owner               -0.055281\n",
              "driven km           -0.151745\n",
              "transmission         0.420417\n",
              "fuel                -0.186224\n",
              "body type            0.184124\n",
              "engine cc            0.588915\n",
              "max power bhp        0.636804\n",
              "wheel size inches    0.133951\n",
              "no of seats          0.158183\n",
              "mileage kmpl        -0.023932\n",
              "price in rupee       1.000000\n",
              "purchase year        0.251187\n",
              "company              0.054010\n",
              "Name: price in rupee, dtype: float64"
            ]
          },
          "metadata": {
            "tags": []
          },
          "execution_count": 525
        }
      ]
    },
    {
      "cell_type": "code",
      "metadata": {
        "colab": {
          "base_uri": "https://localhost:8080/",
          "height": 365
        },
        "id": "AHF4DzB_Uf2X",
        "outputId": "ad42c34e-cdda-4572-b614-c77c6bca40d4"
      },
      "source": [
        "sns.heatmap(np.abs(cleaned_data.corr()))"
      ],
      "execution_count": 526,
      "outputs": [
        {
          "output_type": "execute_result",
          "data": {
            "text/plain": [
              "<matplotlib.axes._subplots.AxesSubplot at 0x7fcc755d5210>"
            ]
          },
          "metadata": {
            "tags": []
          },
          "execution_count": 526
        },
        {
          "output_type": "display_data",
          "data": {
            "image/png": "[encoded data removed]",
            "text/plain": [
              "<Figure size 432x288 with 2 Axes>"
            ]
          },
          "metadata": {
            "tags": [],
            "needs_background": "light"
          }
        }
      ]
    },
    {
      "cell_type": "code",
      "metadata": {
        "id": "z1oyusAP2_a1"
      },
      "source": [
        ""
      ],
      "execution_count": null,
      "outputs": []
    }
  ]
}